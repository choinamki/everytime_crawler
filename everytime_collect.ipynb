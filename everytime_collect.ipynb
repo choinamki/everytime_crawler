{
 "cells": [
  {
   "cell_type": "code",
   "execution_count": 4,
   "metadata": {},
   "outputs": [],
   "source": [
    "from selenium import webdriver\n",
    "from bs4 import BeautifulSoup\n",
    "from collections import defaultdict\n",
    "import time\n",
    "import datetime\n",
    "import os\n",
    "import json\n",
    "from krwordrank.word import KRWordRank\n",
    "from wordcloud import WordCloud\n",
    "\n",
    "\n",
    "FIND_NUM = 1                                   # 탐색하고자 하는 횟수, 개당 20게 게시물\n",
    "YOUR_ID = ' '                            # 에브리타임 아이디\n",
    "YOUR_PASSWORD = ' '                      # 에브리타임 비밀번호\n",
    "BOARD_URL = 'https://everytime.kr/370451/p/'   # 에브리타임 해당 학교 자유게시판 주소\n",
    "def tree(): \n",
    "    return defaultdict(tree)\n",
    "\n",
    "driver = webdriver.Chrome('./chromedriver.exe')\n",
    "driver.implicitly_wait(10)\n",
    "driver.get('https://everytime.kr/login')\n",
    "\n",
    "# 접속\n",
    "driver.find_element_by_xpath('//*[@id=\"container\"]/form/p[1]/input').send_keys(YOUR_ID)   # 아이디\n",
    "driver.find_element_by_xpath('//*[@id=\"container\"]/form/p[2]/input').send_keys(YOUR_PASSWORD)   # 비밀번호\n",
    "driver.find_element_by_xpath('//*[@id=\"container\"]/form/p[3]/input').click()                # 로그인 버튼\n",
    "time.sleep(2)\n",
    "driver.find_element_by_xpath('//*[@id=\"container\"]/div[4]/div[1]/div/h3/a').click()          # 자유게시판 클릭\n",
    "\n",
    "everytime_link = list() # 링크 리스트\n",
    "fail_link = list() # 실패 리스트\n",
    "page_number = 2\n",
    "content_number = 0\n",
    "\n",
    "\n",
    "if not os.path.isdir(\"./Result/\"):\n",
    "    os.mkdir(\"./Result/\") \n",
    "    \n",
    "for i in range(FIND_NUM):\n",
    "    time.sleep(7)    \n",
    "    html = driver.page_source\n",
    "    soup = BeautifulSoup(html, 'html.parser')\n",
    "    \n",
    "    content = soup.findAll('article')\n",
    "\n",
    "    for url in content:\n",
    "        find_url = url.find('a', attrs={'class', 'article'}).get('href')\n",
    "        everytime_link.append(find_url)\n",
    "    time.sleep(2)\n",
    "    driver.get(BOARD_URL + str(page_number)) # 자유게시판\n",
    "    page_number = page_number + 1\n",
    "\n",
    "with open('./everytime_link.txt', 'w') as fileobject:\n",
    "    for join_link in everytime_link:\n",
    "        fileobject.write(join_link)\n",
    "        fileobject.write('\\n')\n",
    "\n",
    "\n",
    "\n",
    "for url in everytime_link:\n",
    "        \n",
    "    time_now = datetime.datetime.now()      #현재 시간 저장\n",
    "    json_data = dict()\n",
    "    comment_text = list()\n",
    "    comment_time = list()\n",
    "    json_data['comment_text'] = list()\n",
    "    json_data['comment_time'] = list()\n",
    "    \n",
    "    try:\n",
    "        driver.get('https://everytime.kr' + url)\n",
    "        time.sleep(5)\n",
    "\n",
    "        html = driver.page_source\n",
    "        soup = BeautifulSoup(html, 'html.parser')\n",
    "        # append 로 수정할것\n",
    "        title = soup.find('h2', attrs={'class', 'large'}).get_text()\n",
    "        text = soup.find('p', attrs={'class', 'large'}).get_text()\n",
    "        text_time = soup.find('time', attrs={'class', 'large'}).get_text()\n",
    "        try:\n",
    "            comment = soup.findAll('article')\n",
    "\n",
    "            for content in comment:\n",
    "                comment_text.append(content.find('p').get_text())\n",
    "                comment_time.append(content.find('time').get_text())\n",
    "        except:\n",
    "            pass                   #댓글없음\n",
    "        \n",
    "        \n",
    "        json_data['title'] = title\n",
    "        json_data['text'] = text\n",
    "        json_data['tex_time'] = text_time\n",
    "        json_data['now_time'] = str(time_now)\n",
    "        \n",
    "        json_data['comment_text'] = comment_text\n",
    "        json_data['comment_time'] = comment_time\n",
    "        \n",
    "    except Exception as e:\n",
    "        print(e)\n",
    "        fail_link.append(url)\n",
    "        continue\n",
    "\n",
    "    with open('./Result/' + 'text' + str(content_number) + '.txt', 'w') as fileobject:\n",
    "        json.dump(json_data, fileobject)\n",
    "        content_number = content_number + 1\n",
    "            \n",
    "            \n",
    "with open('./fail_url.txt', 'w') as fileobject:\n",
    "    for join_link in fail_link:\n",
    "        fileobject.write(join_link)\n",
    "        fileobject.write('\\n')\n",
    "            \n",
    "driver.close()"
   ]
  },
  {
   "cell_type": "code",
   "execution_count": 5,
   "metadata": {},
   "outputs": [],
   "source": [
    "# https://wikidocs.net/39 참조\n",
    "\n",
    "def search(dirname):        # 디렉토리 속 파일 경로 리스트 가져오기 ex : ./Result/file.txt\n",
    "    file_name_list = list()\n",
    "    filenames = os.listdir(dirname)\n",
    "    for filename in filenames:\n",
    "        full_filename = os.path.join(dirname, filename)\n",
    "        file_name_list.append(full_filename)\n",
    "    return file_name_list\n",
    "\n",
    "def file_read(file_name_list):  # json 으로 해당 경로 파일 가져오기\n",
    "    data = list()\n",
    "    for file_path in file_name_list:\n",
    "        with open(file_path, 'r') as file_point:\n",
    "            data.append(json.load(file_point))\n",
    "    return data"
   ]
  },
  {
   "cell_type": "code",
   "execution_count": 6,
   "metadata": {},
   "outputs": [
    {
     "name": "stdout",
     "output_type": "stream",
     "text": [
      "dict_keys(['comment_text', 'comment_time', 'title', 'text', 'tex_time', 'now_time'])\n",
      "슴우들\n",
      "잘 모르는데 알려주세요 ㅠ단순히 나중에 힘들다 이런거 말구요..\n"
     ]
    }
   ],
   "source": [
    "file_list = search('./Result/')\n",
    "data = file_read(file_list)\n",
    "\n",
    "#print(file_list)\n",
    "print(data[0].keys())\n",
    "print(data[4]['title'])\n",
    "print(data[0]['text'])"
   ]
  },
  {
   "cell_type": "code",
   "execution_count": 8,
   "metadata": {},
   "outputs": [],
   "source": [
    "# https://lovit.github.io/nlp/2018/04/17/word_cloud/ 참조\n",
    "\n",
    "wordrank_extractor = KRWordRank(\n",
    "    min_count = 10, # 단어의 최소 출현 빈도수 (그래프 생성 시)\n",
    "    max_length = 15, # 단어의 최대 길이\n",
    "    verbose = True\n",
    "    )\n",
    "\n",
    "beta = 0.85    # PageRank의 decaying factor beta\n",
    "max_iter = 10\n",
    "\n",
    "input_text = str()\n",
    "text = list()\n",
    "for content in data:\n",
    "    text.append(content['text'])\n",
    "    text.append(content['title'])\n",
    "    \n",
    "    for comment in content['comment_text']:\n",
    "        text.append(comment)\n",
    "\n",
    "input_text = ' '.join(text)"
   ]
  },
  {
   "cell_type": "code",
   "execution_count": 9,
   "metadata": {},
   "outputs": [
    {
     "name": "stdout",
     "output_type": "stream",
     "text": [
      "scan vocabs ... \n",
      "num vocabs = 41\n",
      "done = 10\n"
     ]
    }
   ],
   "source": [
    "keywords = None\n",
    "rank = ''\n",
    "graph = None\n",
    "keywords, rank, graph = wordrank_extractor.extract(text, beta, max_iter)"
   ]
  },
  {
   "cell_type": "code",
   "execution_count": 10,
   "metadata": {},
   "outputs": [
    {
     "name": "stdout",
     "output_type": "stream",
     "text": [
      "      먹고:\t1.8800\n",
      "      모솔:\t1.7402\n",
      "      알바:\t1.2492\n"
     ]
    }
   ],
   "source": [
    "for word, r in sorted(keywords.items(), key=lambda x:x[1], reverse=True)[:60]:\n",
    "    print('%8s:\\t%.4f' % (word, r))"
   ]
  },
  {
   "cell_type": "code",
   "execution_count": 27,
   "metadata": {},
   "outputs": [
    {
     "name": "stdout",
     "output_type": "stream",
     "text": [
      "{'내가': 7.012176508708188, '진짜': 6.93075013038038, '나도': 4.910207422493632, '그냥': 4.861219328446708, '사람': 4.829200900105935, '너무': 4.697183458735927, '삭제된': 4.450530220159293, '수업': 4.4019167810174125, 'ㅠㅠ': 3.4029258844898793, '같이': 3.3902133379531985, '전공': 3.276625512568155, '어떻게': 3.260149940531499, '아니': 3.209767616874798, 'ㅋㅋ': 3.192389984522214, '근데': 3.046539362817057, '지금': 2.829580858690222, '나는': 2.825688411907347, '혹시': 2.8200131749870567, '교수님': 2.7513053405165815, '이렇게': 2.625141511114593, '정말': 2.5675120481994655, '다들': 2.5447722087662097, '하는': 2.505828919010939, '많이': 2.4306451225729444, '우리': 2.308459439356643, '친구': 2.173523112528609, '있는': 2.0722989925224504, '하나': 2.0563669389677415, '계속': 2.0511486618097248, '그거': 2.0477789824878436, '서로': 2.0017966389198865, '싸강': 1.9992090831043061, '그런': 1.9531259517217379, '생각': 1.900297034301115, '들어': 1.887683295968917, '다른': 1.8732965467707472, '오늘': 1.8380557904874415, '연락': 1.8370599175843285, 'ㅜㅜ': 1.8203471555318749, '이제': 1.7174860851215752, '이번에': 1.6712126873677087, '댓글입니다.': 1.6460288251296227, '그래서': 1.631846504944416, '저도': 1.5406638853720747, '이거': 1.48087398064084, '하면': 1.4623803152106585, '그럼': 1.4574391735387016, '추천': 1.4405964851440705, '교양': 1.423468185368149, '초면에': 1.4130807634497669, '그리고': 1.4011334526270294, '좋은': 1.3975746168722964, 'ㄹㅇ': 1.3377133662730905, '강의': 1.3224950475440154, 'ㅎㅎ': 1.3222709553747651, '절대': 1.299733573815094, '남친': 1.285708427661263, '한번': 1.2780695538472222, '좋아': 1.2727095840762166, '어떤': 1.2702478729968463, '제가': 1.249195666841663, '제발': 1.2225820689776792, '이미': 1.2211762305057507, 'ㅅㅂ': 1.2073295153200232, '바로': 1.183231203785406, '..': 1.1818481472734326, '이런': 1.166612801120055, '무슨': 1.1635904677898696, '조금': 1.1424093478752753, '학교': 1.1370365054179246, '있어': 1.1285704146732964, '수강': 1.1285326319920221, '언제': 1.1191171550036945, '없어서': 1.093754422044941, '같아': 1.0930302655771014, '듣고': 1.0710610458026308, '같은': 1.0661561885631974, '무조건': 1.0645932420493545, '행복': 1.0547811452082272, '아님': 1.0476735857441448, '시간': 1.0454558098787494, '하고': 1.0330718095182734, '모두': 1.0225467176914607, '현재': 1.020481934412533, '나중에': 1.005065561076843, '일단': 1.000600258409886, '원래': 0.998631955510841, '요즘': 0.9975097100382967, '엄청': 0.9888922238440854, '반말': 0.97902226748774, '자기': 0.9779741482327833, '뭐가': 0.9736806167065515, '아직': 0.9691591451329227, '존댓말': 0.9533359052690041, '남자': 0.9517597694806096, '되는': 0.9515910237548432, '쪽지': 0.9445587550031129, '고양이': 0.9415637675563013, '시험': 0.937065751510709, '어때': 0.9328842858842871, '인원': 0.9297310964488067, '따로': 0.9271828280718764, '신청': 0.9231480019861318, '정도': 0.9211709621046363, '있나': 0.911490909791701, '혼자': 0.9066904288314783, '휴학': 0.9059065600422956, '아침': 0.9047875234702836, '분들': 0.9032352357341238, '별로': 0.9012470719973215, '힘들': 0.8959185494841606, '아주': 0.8937670347657771, '아두이노': 0.8911001355570444, '풀리': 0.8906352012823411, '쓰니': 0.890353275162188, '오후': 0.890059983674964, '먼저': 0.887155429183351, '그러': 0.8831259565234642, '독강': 0.8817017940553068, '없는': 0.8749201042461543, '이게': 0.8718136688603553, '뭔가': 0.8711990510513175, '어디': 0.8653084670917162, '제일': 0.8479368378702484, '해도': 0.8452041567455078, '타과': 0.8402162864043513, '과사': 0.8395328551107494, '발표': 0.8378972908850494, '나와라': 0.8340711540835919, '모르겠': 0.8283157673407437, '감사': 0.8225550761661318, '안풀': 0.8167970315467304, '집에': 0.8009468428481418, '존나': 0.7969689199440382, '매일': 0.7950540112184974, '졸업': 0.7933025288655308, '괜찮': 0.7905427253568788, '그렇': 0.7744708223589327, '헤어지': 0.7697614560043454, '듣는': 0.7683386942456933, '했는데': 0.7678338540699778, '있다': 0.7638929402690293, 'ㅈㄱ': 0.7611272685115217, '처리중입니다': 0.7609174033312097, '있으': 0.7554856667463278, '정정기간': 0.7490126398496004, '카풀': 0.748539665727131, '이상': 0.7277647422407626, '일주일': 0.7270626387899661, '누가': 0.7240352078102705, '금요일': 0.7157287562122533, '많아': 0.7109112205728702, '기분': 0.7081618375008972, '항상': 0.7033212930514552, '아무': 0.7006583945193462, '아닌': 0.700499096413888, '당연': 0.694708701882591, '알바': 0.6945400554377809, '내일': 0.6938834469392197, '맞지': 0.6928228400455091, '안서동': 0.6912244284519896, '입양': 0.6912051863031136, '브랜드': 0.6906620459135362, '가능': 0.6894806756311339, '강릉': 0.6875315270439376, '1학': 0.6841422827807906, 'ㄱㅊ': 0.6796219856316806, '수요일': 0.6780731915889755, '얘기': 0.6772758003215555, '??': 0.6728936192976306, '여기': 0.6703177270504, '들을': 0.6700494845346133, '처음': 0.6647028507266888, '나오': 0.6516509040816145, '쓰는': 0.6509707633961339, '마음': 0.6488482536381293, '안하': 0.646065071254954, '연애': 0.6413780825099633, '하지': 0.6361210946903476, '거기': 0.633663983592359, '나을': 0.6304268785819177, '중에': 0.6285718006766126, '자주': 0.6248752606430867, '천안': 0.6212895804654335, '과목': 0.618995662548546, '4학년': 0.6170923566062603, '여자': 0.6156830544932079, '해주': 0.6079880755574074, '검색': 0.6013632754539697, '21': 0.5954945614355708, '잡아': 0.5947309857906439, '안해': 0.5888196549648061, '사랑': 0.5876252195684797, '고민': 0.5860179594144904, '운동': 0.5844777754269358, '결혼': 0.5806892816647499, '필요': 0.5754168140930239, '사이': 0.574330010713737, '설날': 0.5738772709158451, '공강': 0.5711897067563103, 'ㄴㄴ': 0.5711598377174996, '싫어': 0.5628076943742386, '애들': 0.5605422851355333, '상관': 0.5537781382508029, '궁금': 0.5536005093461069, '얼굴': 0.5507329766984059, '나가': 0.5449002003535344, '고마': 0.544489200629846, '만나': 0.5433305984452481, '좋겠': 0.5414030922338734, '전화': 0.5393619234715746, '아는': 0.5392130299534245, '학점': 0.5390593509185704, '해야': 0.5380686292328406, '좋을': 0.5320571096851587, '서울': 0.5311710600829344, '하루': 0.5292077114042728, '일본': 0.5288949117874034, '풀렸': 0.5239053831426548, '안좋': 0.522873512750944, '개꿀': 0.5176975428644366, '얼마': 0.5174930845462931, '그림': 0.512693375590638, '존대': 0.5116923458333975, '10': 0.5105462906974501, '머리': 0.510312748828734, '2학': 0.5084613637123553, '기준': 0.5081842173200375, '있음': 0.5076838791971059, '우울': 0.5068910212001433, '엄마': 0.5059582433855796, '작년': 0.5048491272773192, '뭐라': 0.5048068029883316, '위해': 0.5047766546490104, '싶은': 0.5030214253612763, '걱정': 0.5018381804333922, '모든': 0.5006167714840226, '자취': 0.49806222801559885, '재수강': 0.49744157657552196, '대학': 0.4950698288647367, '없다': 0.4950313045805269, '18': 0.49382211415822896, '집착': 0.49256825602323484, '이러': 0.4918504897817666, '다시': 0.48801201196238353, '부모': 0.4861301661877135, '찾아': 0.48046348994694593, '상대': 0.4803413136314128, '자리': 0.4800930267685736, '문제': 0.47814097775168485, '버리': 0.47536581541765627, '알려': 0.466422731383966, '40': 0.4660015833454689, '진행': 0.45890399441300456, '생활': 0.45795797671434973, '공부': 0.4570777596864978, '잘못': 0.4567523453184989, '게임': 0.45635923021636154, '수공': 0.4530484047678409, '들었': 0.4506458937787666, '재미': 0.44902318972358096, '있을': 0.44753539386680347, '22': 0.4440867213584704, '신경': 0.44188063398129246, '본인': 0.439211094100008, '아닐': 0.43898650995776994, '병원': 0.4364599890855455, '알아': 0.43360192529952685, '이유': 0.433302203482926, '짜증': 0.43141573183100773, '만들': 0.43135057925454034, '재밌': 0.42516825851498624, '나이': 0.42437722477225304, '될까': 0.4208356740495415, '맞아': 0.42046738026024494, 'ㅇㅇ': 0.41891754408455106, '뭐하': 0.4140556684284339, '싶어': 0.41128945915100384, '들으': 0.4054361652614576, '아파': 0.4008563819695222, '느낌': 0.4003261565615983, '12': 0.39951259082559165, '15': 0.3942409817616089, '안되': 0.3911165273095529, '않아': 0.3902934088408942, '잡았': 0.38992578694170466, '조별': 0.38639921239609065, '학생': 0.38559821349973344, '받아': 0.3807776985727286, '참고': 0.3800267759519893, '받으': 0.3791540860930861, '싸우': 0.37837946670596306, '벼루': 0.37430751591077266, '멀어': 0.3730041498574457, '슴우': 0.37029917224219344, '안나': 0.36941645763291175, '비슷': 0.36873258432319067, '여행': 0.36868738841650794, '배우': 0.36669571515417276, '에이': 0.3657244802692058, '못잡': 0.3632647551551558, '어느': 0.3587292926453004, '그것': 0.3550538876382031, '풀릴': 0.3487988743157535, '운건': 0.34611678066457197, '보내': 0.3456738426754359, '부담': 0.3404551534065313, '보드게': 0.33986199456601235, '시작': 0.3375314953261461, '이해': 0.33632860129994224, '가져': 0.3346921876463823, '소개': 0.3247909706586481, '끝나': 0.3191528765893571, '올라': 0.31683290912141626, '기초': 0.3158310642444396, '물어': 0.315339598215965, '안들': 0.3116435122332588, '저번': 0.3081585141320269, '하.': 0.30036950180547595, '개강': 0.29486354151013683, '23': 0.29294342952272057, '못하': 0.2899507384791311, '20': 0.26100874066190677, '말씀': 0.24447057835936833, '60': 0.23071228434163527, '디자': 0.2172622785976258, '구해': 0.19663370539929612}\n",
      "<class 'dict'>\n"
     ]
    }
   ],
   "source": [
    "print(keywords)\n",
    "print(type(keywords))"
   ]
  },
  {
   "cell_type": "code",
   "execution_count": 12,
   "metadata": {},
   "outputs": [],
   "source": [
    "wordcloud = WordCloud(\n",
    "    font_path = './NanumGothic.ttf',\n",
    "    width = 1200,\n",
    "    height = 1200,\n",
    "    background_color=\"white\"\n",
    ")\n",
    "\n",
    "# keywords.pop('삭제된')     # 이상한 값들 제거\n",
    "# keywords.pop('댓글입니다.')\n",
    "# keywords.pop('처리중입니다')\n",
    "\n",
    "#wordcloud = wordcloud.generate_from_text(text)\n",
    "wordcloud = wordcloud.generate_from_frequencies(keywords)"
   ]
  },
  {
   "cell_type": "code",
   "execution_count": 13,
   "metadata": {},
   "outputs": [],
   "source": [
    "def __array__(self):\n",
    "    \"\"\"Convert to numpy array.\n",
    "    Returns\n",
    "    -------\n",
    "    image : nd-array size (width, height, 3)\n",
    "        Word cloud image as numpy matrix.\n",
    "    \"\"\"\n",
    "    return self.to_array()\n",
    "\n",
    "def to_array(self):\n",
    "    \"\"\"Convert to numpy array.\n",
    "    Returns\n",
    "    -------\n",
    "    image : nd-array size (width, height, 3)\n",
    "        Word cloud image as numpy matrix.\n",
    "    \"\"\"\n",
    "    return np.array(self.to_image())"
   ]
  },
  {
   "cell_type": "code",
   "execution_count": 14,
   "metadata": {},
   "outputs": [
    {
     "name": "stdout",
     "output_type": "stream",
     "text": [
      "<class 'numpy.ndarray'>\n",
      "(1200, 1200, 3)\n"
     ]
    }
   ],
   "source": [
    "array = wordcloud.to_array()\n",
    "print(type(array)) # numpy.ndarray\n",
    "print(array.shape) # (, 800, 3)"
   ]
  },
  {
   "cell_type": "code",
   "execution_count": 15,
   "metadata": {},
   "outputs": [
    {
     "data": {
      "image/png": "[encoded data removed]",
      "text/plain": [
       "<Figure size 720x720 with 1 Axes>"
      ]
     },
     "metadata": {},
     "output_type": "display_data"
    }
   ],
   "source": [
    "import matplotlib.pyplot as plt\n",
    "\n",
    "fig = plt.figure(figsize=(10, 10))\n",
    "plt.imshow(array, interpolation=\"bilinear\")\n",
    "plt.axis(\"off\")\n",
    "plt.show()\n",
    "# fig.savefig('자게3.png')  # 이미지 저장"
   ]
  },
  {
   "cell_type": "code",
   "execution_count": null,
   "metadata": {},
   "outputs": [],
   "source": []
  }
 ],
 "metadata": {
  "kernelspec": {
   "display_name": "Python 3",
   "language": "python",
   "name": "python3"
  },
  "language_info": {
   "codemirror_mode": {
    "name": "ipython",
    "version": 3
   },
   "file_extension": ".py",
   "mimetype": "text/x-python",
   "name": "python",
   "nbconvert_exporter": "python",
   "pygments_lexer": "ipython3",
   "version": "3.6.6"
  }
 },
 "nbformat": 4,
 "nbformat_minor": 2
}
